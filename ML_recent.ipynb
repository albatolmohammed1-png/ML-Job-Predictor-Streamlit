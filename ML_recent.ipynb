{
 "cells": [
  {
   "cell_type": "markdown",
   "metadata": {},
   "source": [
    "Project Title\n",
    "Job Recommendation for Fresh Graduates Using Machinee Learning\n",
    "Team Members :\n",
    "\n",
    "Manar Albaqami --- 444008744\n",
    "\n",
    "Rawan Alharbi --- 444008757\n",
    "\n",
    "Albatol Alqahtani --- 444008741\n",
    "\n",
    "Fulwah Bin Aqil --- 444008754\n",
    "\n",
    "Haya Almarri --- 444008700\n",
    "\n",
    "Section: 62S"
   ]
  },
  {
   "cell_type": "code",
   "execution_count": 137,
   "metadata": {
    "id": "hH_s7Ccuha_E"
   },
   "outputs": [],
   "source": [
    "import pandas as pd\n",
    "import numpy as np\n",
    "import matplotlib.pyplot as plt\n",
    "import seaborn as sns\n",
    "\n",
    "from sklearn.preprocessing import LabelEncoder, StandardScaler, MinMaxScaler, RobustScaler, MaxAbsScaler\n",
    "from sklearn.model_selection import train_test_split, GridSearchCV, cross_val_score\n",
    "\n",
    "from sklearn.linear_model import LogisticRegression\n",
    "from sklearn.ensemble import RandomForestClassifier\n",
    "from sklearn.neural_network import MLPClassifier\n",
    "from sklearn.svm import SVC\n",
    "\n",
    "from sklearn.metrics import accuracy_score, precision_score, recall_score, f1_score, classification_report\n",
    "from sklearn.metrics import accuracy_score, classification_report, confusion_matrix\n",
    "\n",
    "import pickle"
   ]
  },
  {
   "cell_type": "code",
   "execution_count": 139,
   "metadata": {
    "colab": {
     "base_uri": "https://localhost:8080/"
    },
    "id": "fA_QCMCMiPn6",
    "outputId": "541fbee1-2c51-48a3-8bab-25c1cda22b76"
   },
   "outputs": [
    {
     "name": "stdout",
     "output_type": "stream",
     "text": [
      " Dataset shape:\n",
      " (20000, 7)\n",
      "\n",
      "\n",
      "----------------------------------------------- Data Overview ------------------------------------------------\n"
     ]
    },
    {
     "data": {
      "text/html": [
       "<div>\n",
       "<style scoped>\n",
       "    .dataframe tbody tr th:only-of-type {\n",
       "        vertical-align: middle;\n",
       "    }\n",
       "\n",
       "    .dataframe tbody tr th {\n",
       "        vertical-align: top;\n",
       "    }\n",
       "\n",
       "    .dataframe thead th {\n",
       "        text-align: right;\n",
       "    }\n",
       "</style>\n",
       "<table border=\"1\" class=\"dataframe\">\n",
       "  <thead>\n",
       "    <tr style=\"text-align: right;\">\n",
       "      <th></th>\n",
       "      <th>student_id</th>\n",
       "      <th>skills</th>\n",
       "      <th>experience_years</th>\n",
       "      <th>course_grades</th>\n",
       "      <th>projects_completed</th>\n",
       "      <th>extracurriculars</th>\n",
       "      <th>job_offer</th>\n",
       "    </tr>\n",
       "  </thead>\n",
       "  <tbody>\n",
       "    <tr>\n",
       "      <th>0</th>\n",
       "      <td>1</td>\n",
       "      <td>Python;Data Analysis;SQL</td>\n",
       "      <td>3</td>\n",
       "      <td>75.26</td>\n",
       "      <td>9</td>\n",
       "      <td>0</td>\n",
       "      <td>1</td>\n",
       "    </tr>\n",
       "    <tr>\n",
       "      <th>1</th>\n",
       "      <td>2</td>\n",
       "      <td>Java</td>\n",
       "      <td>4</td>\n",
       "      <td>74.25</td>\n",
       "      <td>6</td>\n",
       "      <td>2</td>\n",
       "      <td>1</td>\n",
       "    </tr>\n",
       "    <tr>\n",
       "      <th>2</th>\n",
       "      <td>3</td>\n",
       "      <td>Data Analysis</td>\n",
       "      <td>2</td>\n",
       "      <td>74.89</td>\n",
       "      <td>4</td>\n",
       "      <td>3</td>\n",
       "      <td>0</td>\n",
       "    </tr>\n",
       "    <tr>\n",
       "      <th>3</th>\n",
       "      <td>4</td>\n",
       "      <td>Data Analysis</td>\n",
       "      <td>4</td>\n",
       "      <td>72.73</td>\n",
       "      <td>2</td>\n",
       "      <td>3</td>\n",
       "      <td>1</td>\n",
       "    </tr>\n",
       "    <tr>\n",
       "      <th>4</th>\n",
       "      <td>5</td>\n",
       "      <td>Machine Learning;Python;C++</td>\n",
       "      <td>4</td>\n",
       "      <td>84.85</td>\n",
       "      <td>1</td>\n",
       "      <td>4</td>\n",
       "      <td>0</td>\n",
       "    </tr>\n",
       "  </tbody>\n",
       "</table>\n",
       "</div>"
      ],
      "text/plain": [
       "   student_id                       skills  experience_years  course_grades  \\\n",
       "0           1     Python;Data Analysis;SQL                 3          75.26   \n",
       "1           2                         Java                 4          74.25   \n",
       "2           3                Data Analysis                 2          74.89   \n",
       "3           4                Data Analysis                 4          72.73   \n",
       "4           5  Machine Learning;Python;C++                 4          84.85   \n",
       "\n",
       "   projects_completed  extracurriculars  job_offer  \n",
       "0                   9                 0          1  \n",
       "1                   6                 2          1  \n",
       "2                   4                 3          0  \n",
       "3                   2                 3          1  \n",
       "4                   1                 4          0  "
      ]
     },
     "execution_count": 139,
     "metadata": {},
     "output_type": "execute_result"
    }
   ],
   "source": [
    "df = pd.read_csv('Job_Dataset.csv')\n",
    "\n",
    "print(f\" Dataset shape:\\n {df.shape}\")\n",
    "print(\"\\n\\n----------------------------------------------- Data Overview ------------------------------------------------\")\n",
    "df.head()"
   ]
  },
  {
   "cell_type": "markdown",
   "metadata": {
    "jp-MarkdownHeadingCollapsed": true
   },
   "source": [
    "# Exploratory Data Analysis { EDA }"
   ]
  },
  {
   "cell_type": "code",
   "execution_count": 142,
   "metadata": {},
   "outputs": [
    {
     "name": "stdout",
     "output_type": "stream",
     "text": [
      "<class 'pandas.core.frame.DataFrame'>\n",
      "RangeIndex: 20000 entries, 0 to 19999\n",
      "Data columns (total 7 columns):\n",
      " #   Column              Non-Null Count  Dtype  \n",
      "---  ------              --------------  -----  \n",
      " 0   student_id          20000 non-null  int64  \n",
      " 1   skills              20000 non-null  object \n",
      " 2   experience_years    20000 non-null  int64  \n",
      " 3   course_grades       20000 non-null  float64\n",
      " 4   projects_completed  20000 non-null  int64  \n",
      " 5   extracurriculars    20000 non-null  int64  \n",
      " 6   job_offer           20000 non-null  int64  \n",
      "dtypes: float64(1), int64(5), object(1)\n",
      "memory usage: 1.1+ MB\n",
      "None\n",
      "         student_id  experience_years  course_grades  projects_completed  \\\n",
      "count  20000.000000      20000.000000   20000.000000        20000.000000   \n",
      "mean   10000.500000          2.499100      80.092985            4.524850   \n",
      "std     5773.647028          1.710861      11.519916            2.860278   \n",
      "min        1.000000          0.000000      60.000000            0.000000   \n",
      "25%     5000.750000          1.000000      70.127500            2.000000   \n",
      "50%    10000.500000          3.000000      80.170000            5.000000   \n",
      "75%    15000.250000          4.000000      90.000000            7.000000   \n",
      "max    20000.000000          5.000000     100.000000            9.000000   \n",
      "\n",
      "       extracurriculars     job_offer  \n",
      "count      20000.000000  20000.000000  \n",
      "mean           1.997100      0.493750  \n",
      "std            1.413397      0.499973  \n",
      "min            0.000000      0.000000  \n",
      "25%            1.000000      0.000000  \n",
      "50%            2.000000      0.000000  \n",
      "75%            3.000000      1.000000  \n",
      "max            4.000000      1.000000  \n",
      "skills\n",
      "C++                             1174\n",
      "Data Analysis                   1150\n",
      "Java                            1150\n",
      "SQL                             1122\n",
      "Machine Learning                1076\n",
      "                                ... \n",
      "Data Analysis;Java;Python         41\n",
      "C++;SQL;Java                      40\n",
      "SQL;Data Analysis;Java            40\n",
      "Java;Machine Learning;C++         40\n",
      "Python;Java;Machine Learning      32\n",
      "Name: count, Length: 156, dtype: int64\n",
      "job_offer\n",
      "0    10125\n",
      "1     9875\n",
      "Name: count, dtype: int64\n"
     ]
    }
   ],
   "source": [
    "print(df.info())\n",
    "print(df.describe())\n",
    "print(df['skills'].value_counts())\n",
    "print(df['job_offer'].value_counts())"
   ]
  },
  {
   "cell_type": "code",
   "execution_count": 144,
   "metadata": {},
   "outputs": [
    {
     "name": "stdout",
     "output_type": "stream",
     "text": [
      "\n",
      "--- Missing Values ---\n",
      "student_id            0\n",
      "skills                0\n",
      "experience_years      0\n",
      "course_grades         0\n",
      "projects_completed    0\n",
      "extracurriculars      0\n",
      "job_offer             0\n",
      "dtype: int64\n",
      "\n",
      "--- Duplicate Rows ---\n",
      "0\n",
      "\n",
      "---   Job Offer   ---\n",
      "job_offer\n",
      "0    0.50625\n",
      "1    0.49375\n",
      "Name: proportion, dtype: float64\n"
     ]
    },
    {
     "data": {
      "image/png": "[encoded data removed]",
      "text/plain": [
       "<Figure size 640x480 with 1 Axes>"
      ]
     },
     "metadata": {},
     "output_type": "display_data"
    }
   ],
   "source": [
    "# Check for Missing Values\n",
    "print('\\n--- Missing Values ---')\n",
    "print(data.isnull().sum())\n",
    "\n",
    "# Redundancy Check (Duplicate Rows)\n",
    "print('\\n--- Duplicate Rows ---')\n",
    "print(data.duplicated().sum())\n",
    "print()\n",
    "\n",
    "# Check class distribution\n",
    "print('---   Job Offer   ---')\n",
    "print(data['job_offer'].value_counts(normalize=True))\n",
    "sns.countplot(x='job_offer', data=data)\n",
    "plt.title('Job Offer Class Distribution')\n",
    "plt.show()"
   ]
  },
  {
   "cell_type": "code",
   "execution_count": 145,
   "metadata": {},
   "outputs": [
    {
     "data": {
      "image/png": "[encoded data removed]",
      "text/plain": [
       "<Figure size 800x600 with 1 Axes>"
      ]
     },
     "metadata": {},
     "output_type": "display_data"
    },
    {
     "name": "stdout",
     "output_type": "stream",
     "text": [
      "\n",
      "--- Course Grades Statistics ---\n",
      "count    20000.000000\n",
      "mean        80.092985\n",
      "std         11.519916\n",
      "min         60.000000\n",
      "25%         70.127500\n",
      "50%         80.170000\n",
      "75%         90.000000\n",
      "max        100.000000\n",
      "Name: course_grades, dtype: float64\n"
     ]
    }
   ],
   "source": [
    "\"\"\"\n",
    "Outlier analysis was conducted on the 'course_grades' feature as it is a continuous, performance-related variable \n",
    "that may significantly influence job offer outcomes. \n",
    "Identifying anomalies in this feature helps ensure data quality and supports more robust model interpretation.\n",
    "\"\"\"\n",
    "\n",
    "# Outlier Analysis: Course Grades\n",
    "plt.figure(figsize=(8, 6))\n",
    "sns.boxplot(y=data['course_grades'])\n",
    "plt.title('Course Grades Outlier Analysis')\n",
    "plt.ylabel('Course Grades')\n",
    "plt.show()\n",
    "\n",
    "print('\\n--- Course Grades Statistics ---')\n",
    "print(data['course_grades'].describe())"
   ]
  },
  {
   "cell_type": "code",
   "execution_count": 148,
   "metadata": {},
   "outputs": [
    {
     "data": {
      "image/png": "[encoded data removed]",
      "text/plain": [
       "<Figure size 1000x600 with 2 Axes>"
      ]
     },
     "metadata": {},
     "output_type": "display_data"
    }
   ],
   "source": [
    "# Correlation heatmap for numeric features\n",
    "plt.figure(figsize=(10, 6))\n",
    "sns.heatmap(data.corr(numeric_only=True), annot=True, cmap='coolwarm')\n",
    "plt.title('Correlation Matrix')\n",
    "plt.show()"
   ]
  },
  {
   "cell_type": "markdown",
   "metadata": {},
   "source": [
    "\n",
    "A correlation heatmap was used to examine the linear relationships between numerical features. \n",
    "This helps identify multicollinearity and understand how each feature relates to the target variable 'job_offer'. \n",
    "In this case, correlations are generally low, indicating limited redundancy and weak linear dependence.\n",
    "\n"
   ]
  },
  {
   "cell_type": "markdown",
   "metadata": {
    "jp-MarkdownHeadingCollapsed": true
   },
   "source": [
    "# Data Preprocessing "
   ]
  },
  {
   "cell_type": "markdown",
   "metadata": {},
   "source": [
    "#### Feature Engineeerig "
   ]
  },
  {
   "cell_type": "code",
   "execution_count": 153,
   "metadata": {},
   "outputs": [],
   "source": [
    "# Import LabelEncoder to convert categorical variables into numeric format\n",
    "from sklearn.preprocessing import LabelEncoder\n",
    "le = LabelEncoder()\n",
    "df['skills_encoded'] = le.fit_transform(df['skills'])\n",
    "features = ['experience_years', 'course_grades', 'projects_completed', 'extracurriculars', 'skills_encoded']\n",
    "X = df[features]\n",
    "y = df['job_offer']"
   ]
  },
  {
   "cell_type": "markdown",
   "metadata": {},
   "source": [
    "#### Defne Features "
   ]
  },
  {
   "cell_type": "code",
   "execution_count": 156,
   "metadata": {},
   "outputs": [],
   "source": [
    "features = ['experience_years', 'course_grades', 'projects_completed', 'extracurriculars', 'skills_encoded']\n",
    "X = df[features]\n",
    "y = df['job_offer']"
   ]
  },
  {
   "cell_type": "markdown",
   "metadata": {},
   "source": [
    "# Apply machine learning techniques/tools "
   ]
  },
  {
   "cell_type": "markdown",
   "metadata": {},
   "source": [
    "#### Define Feature Scalers and Machine Learning Models"
   ]
  },
  {
   "cell_type": "code",
   "execution_count": 160,
   "metadata": {
    "id": "AAq43z3Ai8In"
   },
   "outputs": [],
   "source": [
    "scalers = {\n",
    "    'StandardScaler': StandardScaler(),\n",
    "    'MinMaxScaler': MinMaxScaler(),\n",
    "    'RobustScaler': RobustScaler(),\n",
    "    'MaxAbsScaler': MaxAbsScaler()\n",
    "}\n",
    "\n",
    "models = {\n",
    "    'LogisticRegression': LogisticRegression(max_iter=1000, random_state=42),\n",
    "    'RandomForest': RandomForestClassifier(random_state=42),\n",
    "    'SVM': SVC(random_state=42),\n",
    "    'MLP': MLPClassifier(max_iter=1000, random_state=42)\n",
    "}"
   ]
  },
  {
   "cell_type": "code",
   "execution_count": 162,
   "metadata": {
    "id": "A0ZyvwRalXs4"
   },
   "outputs": [],
   "source": [
    "X_train, X_test, y_train, y_test = train_test_split(X, y, test_size=0.2, stratify=y, random_state=42)"
   ]
  },
  {
   "cell_type": "code",
   "execution_count": 164,
   "metadata": {
    "colab": {
     "base_uri": "https://localhost:8080/"
    },
    "id": "i_vyjLJ0jBKt",
    "outputId": "d89f402a-8cfb-4d39-efd9-b9e7799f9c03"
   },
   "outputs": [
    {
     "name": "stdout",
     "output_type": "stream",
     "text": [
      "StandardScaler + LogisticRegression: CV Mean Accuracy = 0.5028\n",
      "StandardScaler + RandomForest: CV Mean Accuracy = 0.4975\n",
      "StandardScaler + SVM: CV Mean Accuracy = 0.5009\n",
      "StandardScaler + MLP: CV Mean Accuracy = 0.5005\n",
      "MinMaxScaler + LogisticRegression: CV Mean Accuracy = 0.5028\n",
      "MinMaxScaler + RandomForest: CV Mean Accuracy = 0.4981\n",
      "MinMaxScaler + SVM: CV Mean Accuracy = 0.5008\n",
      "MinMaxScaler + MLP: CV Mean Accuracy = 0.4997\n",
      "RobustScaler + LogisticRegression: CV Mean Accuracy = 0.5037\n",
      "RobustScaler + RandomForest: CV Mean Accuracy = 0.4983\n",
      "RobustScaler + SVM: CV Mean Accuracy = 0.4997\n",
      "RobustScaler + MLP: CV Mean Accuracy = 0.5059\n",
      "MaxAbsScaler + LogisticRegression: CV Mean Accuracy = 0.5020\n",
      "MaxAbsScaler + RandomForest: CV Mean Accuracy = 0.4984\n",
      "MaxAbsScaler + SVM: CV Mean Accuracy = 0.5043\n",
      "MaxAbsScaler + MLP: CV Mean Accuracy = 0.5044\n",
      "\n",
      "=== Summary Table ===\n",
      "Model           LogisticRegression       MLP  RandomForest       SVM\n",
      "Scaler                                                              \n",
      "MaxAbsScaler              0.502000  0.504375      0.498437  0.504312\n",
      "MinMaxScaler              0.502812  0.499687      0.498125  0.500812\n",
      "RobustScaler              0.503688  0.505875      0.498313  0.499750\n",
      "StandardScaler            0.502750  0.500500      0.497500  0.500875\n"
     ]
    }
   ],
   "source": [
    "# Compare scalers and models using cross-validation\n",
    "results = []\n",
    "for scaler_name, scaler in scalers.items():\n",
    "    X_train_scaled = scaler.fit_transform(X_train)\n",
    "    for model_name, model in models.items():\n",
    "        scores = cross_val_score(model, X_train_scaled, y_train, cv=5, scoring='accuracy')\n",
    "        results.append({\n",
    "            'Scaler': scaler_name,\n",
    "            'Model': model_name,\n",
    "            'CV_Mean_Accuracy': scores.mean()\n",
    "        })\n",
    "        print(f\"{scaler_name} + {model_name}: CV Mean Accuracy = {scores.mean():.4f}\")\n",
    "        \n",
    "# Summarize results\n",
    "results_df = pd.DataFrame(results)\n",
    "print(\"\\n=== Summary Table ===\")\n",
    "print(results_df.pivot(index='Scaler', columns='Model', values='CV_Mean_Accuracy'))"
   ]
  },
  {
   "cell_type": "code",
   "execution_count": 165,
   "metadata": {
    "colab": {
     "base_uri": "https://localhost:8080/"
    },
    "id": "hv45xq4NjFCf",
    "outputId": "c4c720af-4ab3-46b9-acae-e62c688bab09"
   },
   "outputs": [
    {
     "name": "stdout",
     "output_type": "stream",
     "text": [
      "\n",
      "Best scaler for each model:\n",
      "                 Model        Scaler  CV_Mean_Accuracy\n",
      "8   LogisticRegression  RobustScaler          0.503688\n",
      "11                 MLP  RobustScaler          0.505875\n",
      "13        RandomForest  MaxAbsScaler          0.498437\n",
      "14                 SVM  MaxAbsScaler          0.504312\n"
     ]
    }
   ],
   "source": [
    "# Select the best scaler for each model\n",
    "best_scalers = results_df.loc[results_df.groupby('Model')['CV_Mean_Accuracy'].idxmax()]\n",
    "print(\"\\nBest scaler for each model:\")\n",
    "print(best_scalers[['Model', 'Scaler', 'CV_Mean_Accuracy']])"
   ]
  },
  {
   "cell_type": "code",
   "execution_count": 166,
   "metadata": {
    "colab": {
     "base_uri": "https://localhost:8080/"
    },
    "id": "USPCeLlejQx5",
    "outputId": "89243714-92c6-4786-db19-4e1a6feaa0f3"
   },
   "outputs": [
    {
     "name": "stdout",
     "output_type": "stream",
     "text": [
      "\n",
      "Best params for LogisticRegression with RobustScaler: {'C': 0.01, 'solver': 'lbfgs'}\n",
      "Best CV Accuracy: 0.5046\n",
      "Test Accuracy: 0.5080\n",
      "Test Precision: 0.5060\n",
      "Test Recall: 0.1489\n",
      "Test F1-score: 0.2300\n",
      "              precision    recall  f1-score   support\n",
      "\n",
      "           0       0.51      0.86      0.64      2025\n",
      "           1       0.51      0.15      0.23      1975\n",
      "\n",
      "    accuracy                           0.51      4000\n",
      "   macro avg       0.51      0.50      0.43      4000\n",
      "weighted avg       0.51      0.51      0.44      4000\n",
      "\n",
      "\n",
      "Best params for MLP with RobustScaler: {'activation': 'tanh', 'alpha': 0.0001, 'hidden_layer_sizes': (100, 50), 'solver': 'adam'}\n",
      "Best CV Accuracy: 0.5096\n",
      "Test Accuracy: 0.4910\n",
      "Test Precision: 0.4868\n",
      "Test Recall: 0.5701\n",
      "Test F1-score: 0.5252\n",
      "              precision    recall  f1-score   support\n",
      "\n",
      "           0       0.50      0.41      0.45      2025\n",
      "           1       0.49      0.57      0.53      1975\n",
      "\n",
      "    accuracy                           0.49      4000\n",
      "   macro avg       0.49      0.49      0.49      4000\n",
      "weighted avg       0.49      0.49      0.49      4000\n",
      "\n",
      "\n",
      "Best params for RandomForest with MaxAbsScaler: {'max_depth': 20, 'min_samples_split': 2, 'n_estimators': 10}\n",
      "Best CV Accuracy: 0.5080\n",
      "Test Accuracy: 0.4938\n",
      "Test Precision: 0.4870\n",
      "Test Recall: 0.4749\n",
      "Test F1-score: 0.4809\n",
      "              precision    recall  f1-score   support\n",
      "\n",
      "           0       0.50      0.51      0.51      2025\n",
      "           1       0.49      0.47      0.48      1975\n",
      "\n",
      "    accuracy                           0.49      4000\n",
      "   macro avg       0.49      0.49      0.49      4000\n",
      "weighted avg       0.49      0.49      0.49      4000\n",
      "\n",
      "\n",
      "Best params for SVM with MaxAbsScaler: {'C': 10, 'gamma': 'auto', 'kernel': 'rbf'}\n",
      "Best CV Accuracy: 0.5068\n",
      "Test Accuracy: 0.5028\n",
      "Test Precision: 0.4886\n",
      "Test Recall: 0.1514\n",
      "Test F1-score: 0.2312\n",
      "              precision    recall  f1-score   support\n",
      "\n",
      "           0       0.51      0.85      0.63      2025\n",
      "           1       0.49      0.15      0.23      1975\n",
      "\n",
      "    accuracy                           0.50      4000\n",
      "   macro avg       0.50      0.50      0.43      4000\n",
      "weighted avg       0.50      0.50      0.43      4000\n",
      "\n"
     ]
    }
   ],
   "source": [
    "# GridSearchCV tuning for best model+scaler combination\n",
    "for idx, row in best_scalers.iterrows():\n",
    "    model_name = row['Model']\n",
    "    scaler_name = row['Scaler']\n",
    "    scaler = scalers[scaler_name]\n",
    "    X_train_scaled = scaler.fit_transform(X_train)\n",
    "    X_test_scaled = scaler.transform(X_test)\n",
    "\n",
    "    if model_name == 'LogisticRegression':\n",
    "        param_grid = {'C': [0.01, 0.1, 1, 10, 100], 'solver': ['liblinear', 'lbfgs']}\n",
    "        grid = GridSearchCV(LogisticRegression(max_iter=1000, random_state=42), param_grid, cv=5, scoring='accuracy')\n",
    "\n",
    "    elif model_name == 'RandomForest':\n",
    "        param_grid = {'n_estimators': [10, 50, 100], 'max_depth': [None, 10, 20], 'min_samples_split': [2, 5, 10]}\n",
    "        grid = GridSearchCV(RandomForestClassifier(random_state=42), param_grid, cv=5, scoring='accuracy')\n",
    "\n",
    "    elif model_name == 'SVM':\n",
    "        param_grid = {'C': [0.1, 1, 10], 'kernel': ['linear', 'rbf'], 'gamma': ['scale', 'auto']}\n",
    "        grid = GridSearchCV(SVC(random_state=42), param_grid, cv=5, scoring='accuracy')\n",
    "\n",
    "    elif model_name == 'MLP':\n",
    "        param_grid = {\n",
    "            'hidden_layer_sizes': [(50,), (100,), (100, 50)],\n",
    "            'activation': ['relu', 'tanh'],\n",
    "            'solver': ['adam'],\n",
    "            'alpha': [0.0001, 0.001]\n",
    "        }\n",
    "        grid = GridSearchCV(MLPClassifier(max_iter=1000, random_state=42), param_grid, cv=5, scoring='accuracy')\n",
    "\n",
    "    grid.fit(X_train_scaled, y_train)\n",
    "    best_model = grid.best_estimator_\n",
    "    print(f\"\\nBest params for {model_name} with {scaler_name}: {grid.best_params_}\")\n",
    "    print(f\"Best CV Accuracy: {grid.best_score_:.4f}\")\n",
    "\n",
    "    y_pred = best_model.predict(X_test_scaled)\n",
    "    print(f\"Test Accuracy: {accuracy_score(y_test, y_pred):.4f}\")\n",
    "    print(f\"Test Precision: {precision_score(y_test, y_pred):.4f}\")\n",
    "    print(f\"Test Recall: {recall_score(y_test, y_pred):.4f}\")\n",
    "    print(f\"Test F1-score: {f1_score(y_test, y_pred):.4f}\")\n",
    "    print(classification_report(y_test, y_pred))\n"
   ]
  },
  {
   "cell_type": "code",
   "execution_count": 170,
   "metadata": {},
   "outputs": [
    {
     "name": "stdout",
     "output_type": "stream",
     "text": [
      " Best model and scaler saved successfully.\n"
     ]
    }
   ],
   "source": [
    "\n",
    "# Re-train best model on full training data with best scaler\n",
    "best_scaler = RobustScaler()\n",
    "X_train_scaled = best_scaler.fit_transform(X_train)\n",
    "X_test_scaled = best_scaler.transform(X_test)\n",
    "\n",
    "best_model = MLPClassifier( activation='tanh', alpha=0.0001, hidden_layer_sizes=(100, 50),  solver='adam', max_iter=1000, random_state=42 )\n",
    "best_model.fit(X_train_scaled, y_train)\n",
    "\n",
    "# Save model and scaler\n",
    "with open('best_model.pkl', 'wb') as model_file:\n",
    "    pickle.dump(best_model, model_file)\n",
    "\n",
    "with open('scaler.pkl', 'wb') as scaler_file:\n",
    "    pickle.dump(best_scaler, scaler_file)\n",
    "\n",
    "print(\" Best model and scaler saved successfully.\")\n"
   ]
  },
  {
   "cell_type": "code",
   "execution_count": null,
   "metadata": {},
   "outputs": [],
   "source": []
  }
 ],
 "metadata": {
  "colab": {
   "provenance": []
  },
  "kernelspec": {
   "display_name": "Python 3 (ipykernel)",
   "language": "python",
   "name": "python3"
  },
  "language_info": {
   "codemirror_mode": {
    "name": "ipython",
    "version": 3
   },
   "file_extension": ".py",
   "mimetype": "text/x-python",
   "name": "python",
   "nbconvert_exporter": "python",
   "pygments_lexer": "ipython3",
   "version": "3.12.4"
  }
 },
 "nbformat": 4,
 "nbformat_minor": 4
}
